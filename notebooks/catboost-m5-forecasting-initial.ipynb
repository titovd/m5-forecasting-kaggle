{
 "cells": [
  {
   "cell_type": "code",
   "execution_count": null,
   "metadata": {
    "_cell_guid": "b1076dfc-b9ad-4769-8c92-a6c4dae69d19",
    "_uuid": "8f2839f25d086af736a60e9eeb907d3b93b6e0e5"
   },
   "outputs": [],
   "source": [
    "import matplotlib.pyplot as plt\n",
    "import numpy as np\n",
    "import pandas as pd\n",
    "import os\n",
    "import seaborn as sns\n",
    "import torch\n",
    "\n",
    "\n",
    "from catboost import CatBoostRegressor, Pool\n",
    "\n",
    "\n",
    "sns.set(font_scale=1.5)\n",
    "%matplotlib inline"
   ]
  },
  {
   "cell_type": "code",
   "execution_count": null,
   "metadata": {},
   "outputs": [],
   "source": [
    "CALENDAR_DATA_PATH = \"/kaggle/input/m5-forecasting-accuracy/calendar.csv\"\n",
    "SALES_DATA_PATH = \"/kaggle/input/m5-forecasting-accuracy/sales_train_validation.csv\"\n",
    "PRICES_DATA_PATH = \"/kaggle/input/m5-forecasting-accuracy/sell_prices.csv\""
   ]
  },
  {
   "cell_type": "code",
   "execution_count": null,
   "metadata": {},
   "outputs": [],
   "source": [
    "CALENDAR_DTYPES = {\n",
    "    \"event_name_1\": \"category\", \n",
    "    \"event_name_2\": \"category\", \n",
    "    \"event_type_1\": \"category\", \n",
    "    \"event_type_2\": \"category\", \n",
    "    \"weekday\": \"category\", \n",
    "    \"wm_yr_wk\": \"int16\", \n",
    "    \"wday\": \"int16\",\n",
    "    \"month\": \"int16\", \n",
    "    \"year\": \"int16\", \n",
    "    \"snap_CA\": \"int16\", \n",
    "    \"snap_TX\": \"int16\", \n",
    "    \"snap_WI\": \"int16\" \n",
    "}"
   ]
  },
  {
   "cell_type": "code",
   "execution_count": null,
   "metadata": {},
   "outputs": [],
   "source": [
    "PRICES_DTYPES = {\n",
    "    \"store_id\": \"category\", \n",
    "    \"item_id\": \"category\", \n",
    "    \"wm_yr_wk\": \"int16\",\n",
    "    \"sell_price\":\"float32\" \n",
    "}"
   ]
  },
  {
   "cell_type": "code",
   "execution_count": null,
   "metadata": {},
   "outputs": [],
   "source": [
    "num_columns = [f\"d_{day}\" for day in np.arange(1, 1914)]\n",
    "categorical_columns = ['id', 'item_id', 'dept_id',\n",
    "                       'store_id', 'cat_id', 'state_id'] \n",
    "SALES_DTYPES = {\n",
    "    numcol : \"int32\" for numcol in num_columns\n",
    "}\n",
    "SALES_DTYPES.update({column: \"category\" for column in categorical_columns if column != \"id\"})"
   ]
  },
  {
   "cell_type": "code",
   "execution_count": null,
   "metadata": {},
   "outputs": [],
   "source": [
    "calendar = pd.read_csv(CALENDAR_DATA_PATH, \n",
    "                       parse_dates=[\"date\"], date_parser = pd.to_datetime)\n",
    "calendar = calendar.fillna('missin')\n",
    "calendar = calendar.astype(CALENDAR_DTYPES)"
   ]
  },
  {
   "cell_type": "code",
   "execution_count": null,
   "metadata": {},
   "outputs": [],
   "source": [
    "prices = pd.read_csv(PRICES_DATA_PATH, dtype=PRICES_DTYPES)"
   ]
  },
  {
   "cell_type": "code",
   "execution_count": null,
   "metadata": {},
   "outputs": [],
   "source": [
    "sales = pd.read_csv(SALES_DATA_PATH, dtype=SALES_DTYPES)"
   ]
  },
  {
   "cell_type": "code",
   "execution_count": null,
   "metadata": {},
   "outputs": [],
   "source": [
    "catcols = ['id', 'item_id', 'dept_id','store_id', 'cat_id', 'state_id']"
   ]
  },
  {
   "cell_type": "code",
   "execution_count": null,
   "metadata": {},
   "outputs": [],
   "source": [
    "sales = pd.melt(sales,\n",
    "             id_vars = catcols,\n",
    "             value_vars = [col for col in sales.columns if col.startswith(\"d_\")],\n",
    "             var_name = \"d\",\n",
    "             value_name = \"sales\")"
   ]
  },
  {
   "cell_type": "code",
   "execution_count": null,
   "metadata": {},
   "outputs": [],
   "source": [
    "sales = sales.merge(calendar, on= \"d\", copy = False)"
   ]
  },
  {
   "cell_type": "code",
   "execution_count": null,
   "metadata": {},
   "outputs": [],
   "source": [
    "sales = sales.merge(prices, on = [\"store_id\", \"item_id\", \"wm_yr_wk\"], copy = False)"
   ]
  },
  {
   "cell_type": "code",
   "execution_count": null,
   "metadata": {},
   "outputs": [],
   "source": [
    "cat_feats = ['item_id', 'dept_id','store_id', 'cat_id', 'state_id'] + [\"event_name_1\", \"event_name_2\", \"event_type_1\", \"event_type_2\"]\n",
    "useless_cols = [\"id\", \"date\", \"sales\",\"d\", \"wm_yr_wk\", \"weekday\"]\n",
    "train_cols = sales.columns[~sales.columns.isin(useless_cols)]\n",
    "X_train = sales[train_cols]\n",
    "y_train = sales[\"sales\"]"
   ]
  },
  {
   "cell_type": "code",
   "execution_count": null,
   "metadata": {},
   "outputs": [],
   "source": [
    "train_data = Pool(\n",
    "    data=X_train,\n",
    "    label=y_train,\n",
    "    cat_features=cat_feats\n",
    ")"
   ]
  },
  {
   "cell_type": "code",
   "execution_count": null,
   "metadata": {},
   "outputs": [],
   "source": [
    "del calendar\n",
    "del prices\n",
    "del sales\n",
    "del X_train\n",
    "del y_train"
   ]
  },
  {
   "cell_type": "code",
   "execution_count": null,
   "metadata": {},
   "outputs": [],
   "source": [
    "model = CatBoostRegressor(learning_rate=0.1, one_hot_max_size=1)"
   ]
  },
  {
   "cell_type": "code",
   "execution_count": null,
   "metadata": {},
   "outputs": [],
   "source": [
    "model.fit(train_data)"
   ]
  },
  {
   "cell_type": "code",
   "execution_count": null,
   "metadata": {},
   "outputs": [],
   "source": []
  }
 ],
 "metadata": {
  "kernelspec": {
   "display_name": "Python 3",
   "language": "python",
   "name": "python3"
  },
  "language_info": {
   "codemirror_mode": {
    "name": "ipython",
    "version": 3
   },
   "file_extension": ".py",
   "mimetype": "text/x-python",
   "name": "python",
   "nbconvert_exporter": "python",
   "pygments_lexer": "ipython3",
   "version": "3.7.6"
  },
  "varInspector": {
   "cols": {
    "lenName": 16,
    "lenType": 16,
    "lenVar": 40
   },
   "kernels_config": {
    "python": {
     "delete_cmd_postfix": "",
     "delete_cmd_prefix": "del ",
     "library": "var_list.py",
     "varRefreshCmd": "print(var_dic_list())"
    },
    "r": {
     "delete_cmd_postfix": ") ",
     "delete_cmd_prefix": "rm(",
     "library": "var_list.r",
     "varRefreshCmd": "cat(var_dic_list()) "
    }
   },
   "types_to_exclude": [
    "module",
    "function",
    "builtin_function_or_method",
    "instance",
    "_Feature"
   ],
   "window_display": false
  }
 },
 "nbformat": 4,
 "nbformat_minor": 4
}
