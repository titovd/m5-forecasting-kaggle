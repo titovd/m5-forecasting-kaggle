{
 "cells": [
  {
   "cell_type": "markdown",
   "metadata": {
    "colab_type": "text",
    "id": "LhuCTmq4LJS9"
   },
   "source": [
    "# M5-forecasting, CatBoost."
   ]
  },
  {
   "cell_type": "code",
   "execution_count": 1,
   "metadata": {
    "colab": {
     "base_uri": "https://localhost:8080/",
     "height": 323
    },
    "colab_type": "code",
    "id": "rFEQX2PTLLHh",
    "outputId": "e49d48aa-746d-4747-cf2b-0a5013ebba94"
   },
   "outputs": [
    {
     "name": "stdout",
     "output_type": "stream",
     "text": [
      "Collecting catboost\n",
      "\u001b[?25l  Downloading https://files.pythonhosted.org/packages/b1/61/2b8106c8870601671d99ca94d8b8d180f2b740b7cdb95c930147508abcf9/catboost-0.23-cp36-none-manylinux1_x86_64.whl (64.7MB)\n",
      "\u001b[K     |████████████████████████████████| 64.8MB 45kB/s \n",
      "\u001b[?25hRequirement already satisfied: graphviz in /usr/local/lib/python3.6/dist-packages (from catboost) (0.10.1)\n",
      "Requirement already satisfied: matplotlib in /usr/local/lib/python3.6/dist-packages (from catboost) (3.2.1)\n",
      "Requirement already satisfied: pandas>=0.24.0 in /usr/local/lib/python3.6/dist-packages (from catboost) (1.0.3)\n",
      "Requirement already satisfied: six in /usr/local/lib/python3.6/dist-packages (from catboost) (1.12.0)\n",
      "Requirement already satisfied: plotly in /usr/local/lib/python3.6/dist-packages (from catboost) (4.4.1)\n",
      "Requirement already satisfied: numpy>=1.16.0 in /usr/local/lib/python3.6/dist-packages (from catboost) (1.18.3)\n",
      "Requirement already satisfied: scipy in /usr/local/lib/python3.6/dist-packages (from catboost) (1.4.1)\n",
      "Requirement already satisfied: pyparsing!=2.0.4,!=2.1.2,!=2.1.6,>=2.0.1 in /usr/local/lib/python3.6/dist-packages (from matplotlib->catboost) (2.4.7)\n",
      "Requirement already satisfied: cycler>=0.10 in /usr/local/lib/python3.6/dist-packages (from matplotlib->catboost) (0.10.0)\n",
      "Requirement already satisfied: python-dateutil>=2.1 in /usr/local/lib/python3.6/dist-packages (from matplotlib->catboost) (2.8.1)\n",
      "Requirement already satisfied: kiwisolver>=1.0.1 in /usr/local/lib/python3.6/dist-packages (from matplotlib->catboost) (1.2.0)\n",
      "Requirement already satisfied: pytz>=2017.2 in /usr/local/lib/python3.6/dist-packages (from pandas>=0.24.0->catboost) (2018.9)\n",
      "Requirement already satisfied: retrying>=1.3.3 in /usr/local/lib/python3.6/dist-packages (from plotly->catboost) (1.3.3)\n",
      "Installing collected packages: catboost\n",
      "Successfully installed catboost-0.23\n"
     ]
    }
   ],
   "source": [
    "!pip install catboost"
   ]
  },
  {
   "cell_type": "code",
   "execution_count": 0,
   "metadata": {
    "_cell_guid": "b1076dfc-b9ad-4769-8c92-a6c4dae69d19",
    "_uuid": "8f2839f25d086af736a60e9eeb907d3b93b6e0e5",
    "colab": {},
    "colab_type": "code",
    "id": "9y3vL3zxLJTA"
   },
   "outputs": [],
   "source": [
    "import gc\n",
    "import matplotlib.pyplot as plt\n",
    "import numpy as np\n",
    "import os\n",
    "import pandas as pd\n",
    "\n",
    "from catboost import Pool, CatBoostRegressor\n",
    "from catboost.utils import get_gpu_device_count\n",
    "from datetime import datetime, timedelta\n",
    "from tqdm.notebook import tqdm"
   ]
  },
  {
   "cell_type": "code",
   "execution_count": 18,
   "metadata": {
    "colab": {
     "base_uri": "https://localhost:8080/",
     "height": 34
    },
    "colab_type": "code",
    "id": "Quy2m1eWupBZ",
    "outputId": "4eae1379-1cf4-4730-dcbc-9af540ba09e5"
   },
   "outputs": [
    {
     "name": "stdout",
     "output_type": "stream",
     "text": [
      "GPU devices СatBoost: 1\n"
     ]
    }
   ],
   "source": [
    "print('GPU devices СatBoost:', get_gpu_device_count())"
   ]
  },
  {
   "cell_type": "code",
   "execution_count": 3,
   "metadata": {
    "colab": {
     "base_uri": "https://localhost:8080/",
     "height": 122
    },
    "colab_type": "code",
    "id": "4quJpZarLkR4",
    "outputId": "83a008db-5911-49d8-8edb-d7c08b8bd05c"
   },
   "outputs": [
    {
     "name": "stdout",
     "output_type": "stream",
     "text": [
      "Go to this URL in a browser: https://accounts.google.com/o/oauth2/auth?client_id=947318989803-6bn6qk8qdgf4n4g3pfee6491hc0brc4i.apps.googleusercontent.com&redirect_uri=urn%3aietf%3awg%3aoauth%3a2.0%3aoob&response_type=code&scope=email%20https%3a%2f%2fwww.googleapis.com%2fauth%2fdocs.test%20https%3a%2f%2fwww.googleapis.com%2fauth%2fdrive%20https%3a%2f%2fwww.googleapis.com%2fauth%2fdrive.photos.readonly%20https%3a%2f%2fwww.googleapis.com%2fauth%2fpeopleapi.readonly\n",
      "\n",
      "Enter your authorization code:\n",
      "··········\n",
      "Mounted at /gdrive\n"
     ]
    }
   ],
   "source": [
    "from google.colab import drive\n",
    "drive.mount('/gdrive')"
   ]
  },
  {
   "cell_type": "code",
   "execution_count": 19,
   "metadata": {
    "_cell_guid": "79c7e3d0-c299-4dcb-8224-4455121ee9b0",
    "_uuid": "d629ff2d2480ee46fbb7e2d37f6b5fab8052498a",
    "colab": {
     "base_uri": "https://localhost:8080/",
     "height": 34
    },
    "colab_type": "code",
    "id": "_BSirkz2LJTK",
    "outputId": "e08e5878-f45a-4050-82c7-f8e1c7878d6e"
   },
   "outputs": [
    {
     "name": "stdout",
     "output_type": "stream",
     "text": [
      "2016-04-24 00:00:00\n"
     ]
    }
   ],
   "source": [
    "DATA_DIR = '/gdrive/My Drive/M5-forecasting'\n",
    "MODEL_VER = 'v0'\n",
    "BACKWARD_LAGS = 60\n",
    "END_D = 1913\n",
    "CUT_D = END_D - int(365 * 1.2)\n",
    "END_DATE = '2016-04-24'\n",
    "print(datetime.strptime(END_DATE, '%Y-%m-%d'))\n",
    "np.random.seed(0)"
   ]
  },
  {
   "cell_type": "markdown",
   "metadata": {
    "colab_type": "text",
    "id": "dWv9JkR5LJTQ"
   },
   "source": [
    "## Загрузка данных"
   ]
  },
  {
   "cell_type": "code",
   "execution_count": 0,
   "metadata": {
    "colab": {},
    "colab_type": "code",
    "id": "191RgjN3LJTR"
   },
   "outputs": [],
   "source": [
    "CALENDAR_DTYPES = {\n",
    "    'date':             'str',\n",
    "    'wm_yr_wk':         'int16', \n",
    "    'weekday':          'object',\n",
    "    'wday':             'int16', \n",
    "    'month':            'int16', \n",
    "    'year':             'int16', \n",
    "    'd':                'object',\n",
    "    'event_name_1':     'object',\n",
    "    'event_type_1':     'object',\n",
    "    'event_name_2':     'object',\n",
    "    'event_type_2':     'object',\n",
    "    'snap_CA':          'int16', \n",
    "    'snap_TX':          'int16', \n",
    "    'snap_WI':          'int16'\n",
    "}\n",
    "PARSE_DATES = ['date']\n",
    "SPRICES_DTYPES = {\n",
    "    'store_id':    'object', \n",
    "    'item_id':     'object', \n",
    "    'wm_yr_wk':    'int16',  \n",
    "    'sell_price':  'float32'\n",
    "}"
   ]
  },
  {
   "cell_type": "code",
   "execution_count": 0,
   "metadata": {
    "colab": {},
    "colab_type": "code",
    "id": "qWztCLSALJTY"
   },
   "outputs": [],
   "source": [
    "def get_df(is_train:bool=True, \n",
    "           backward_lags:int=None):\n",
    "    strain = pd.read_csv('{}/sales_train_validation.csv'.format(DATA_DIR))\n",
    "    print('sales_train_validation.csv:', strain.shape)\n",
    "    cat_cols = ['id', 'item_id', 'dept_id','store_id', 'cat_id', 'state_id']\n",
    "    last_day = int(strain.columns[-1].replace('d_', ''))\n",
    "    print('First day:', CUT_D)\n",
    "    print('Last day:', last_day)\n",
    "    if not is_train:\n",
    "        for day in range(last_day + 1, last_day + 28 + 28 + 1):\n",
    "            strain['d_{}'.format(day)] = np.nan\n",
    "        value_vars = [col for col in strain.columns \n",
    "                      if (col.startswith('d_') and (int(col.replace('d_', '')) >= END_D - backward_lags))]\n",
    "    else:\n",
    "        value_vars = [col for col in strain.columns \n",
    "                      if (col.startswith('d_') and (int(col.replace('d_', '')) >= CUT_D))]\n",
    "    strain = pd.melt(\n",
    "        strain,\n",
    "        id_vars = cat_cols,\n",
    "        value_vars = value_vars,\n",
    "        var_name = 'd',\n",
    "        value_name = 'sales'\n",
    "    )\n",
    "    print('Melted sales:', strain.shape)\n",
    "    calendar = pd.read_csv('{}/calendar.csv'.format(DATA_DIR), dtype=CALENDAR_DTYPES, parse_dates=PARSE_DATES)\n",
    "    print('calendar.csv:', calendar.shape)\n",
    "    strain = strain.merge(calendar, on='d', copy=False)\n",
    "    del calendar\n",
    "    gc.collect()\n",
    "    print('Merged done')\n",
    "    sprices = pd.read_csv('{}/sell_prices.csv'.format(DATA_DIR), dtype=SPRICES_DTYPES)\n",
    "    print('read prices:', sprices.shape)\n",
    "    strain = strain.merge(\n",
    "        sprices, \n",
    "        on=['store_id', 'item_id', 'wm_yr_wk'], \n",
    "        copy=False\n",
    "    )\n",
    "    del sprices\n",
    "    gc.collect()\n",
    "\n",
    "    if not is_train:\n",
    "        strain = strain.loc[\n",
    "            strain['date'] >= (datetime.strptime(END_DATE, '%Y-%m-%d') - timedelta(days=backward_lags))\n",
    "        ]\n",
    "    return strain"
   ]
  },
  {
   "cell_type": "code",
   "execution_count": 0,
   "metadata": {
    "colab": {},
    "colab_type": "code",
    "id": "cVk0CjxnLJTf"
   },
   "outputs": [],
   "source": [
    "def make_features(strain):\n",
    "    print('make features dataframe:', strain.shape)\n",
    "    lags = [7, 28]\n",
    "    windows= [7, 28]\n",
    "    wnd_feats = ['id', 'item_id']\n",
    "    lag_cols = ['lag_{}'.format(lag) for lag in lags ]\n",
    "    for lag, lag_col in zip(lags, lag_cols):\n",
    "        strain[lag_col] = strain[['id', 'sales']].groupby('id')['sales'].shift(lag)\n",
    "    for wnd_feat in wnd_feats:\n",
    "        for wnd in windows:\n",
    "            for lag_col in lag_cols:\n",
    "                wnd_col = '{}_{}_rmean_{}'.format(lag_col, wnd_feat, wnd)\n",
    "                strain[wnd_col] = strain[[wnd_feat, lag_col]].groupby(wnd_feat)[lag_col].transform(\n",
    "                    lambda x: x.rolling(wnd).mean()\n",
    "                )\n",
    "    date_features = {\n",
    "        'week_num': 'weekofyear',\n",
    "        'quarter': 'quarter',\n",
    "        'mday': 'day'\n",
    "    }\n",
    "    for date_feat_name, date_feat_func in date_features.items():\n",
    "        strain[date_feat_name] = getattr(strain['date'].dt, date_feat_func).astype('int16')\n",
    "    strain['d'] = strain['d'].apply(lambda x: int(x.replace('d_', '')))  \n",
    "    return strain"
   ]
  },
  {
   "cell_type": "code",
   "execution_count": null,
   "metadata": {
    "colab": {
     "base_uri": "https://localhost:8080/",
     "height": 374
    },
    "colab_type": "code",
    "id": "4wVrXhRGLJTm",
    "outputId": "4030b0e8-ad5d-47ef-c1fa-8aad97d4fed6",
    "scrolled": false
   },
   "outputs": [],
   "source": [
    "%%time\n",
    "strain = get_df(is_train=True, backward_lags=None)\n",
    "strain = make_features(strain)"
   ]
  },
  {
   "cell_type": "code",
   "execution_count": 25,
   "metadata": {
    "colab": {
     "base_uri": "https://localhost:8080/",
     "height": 213
    },
    "colab_type": "code",
    "id": "Dke4nLILzDKB",
    "outputId": "62e666e7-d668-47a0-a9b9-5a16af23d731"
   },
   "outputs": [
    {
     "data": {
      "text/html": [
       "<div>\n",
       "<style scoped>\n",
       "    .dataframe tbody tr th:only-of-type {\n",
       "        vertical-align: middle;\n",
       "    }\n",
       "\n",
       "    .dataframe tbody tr th {\n",
       "        vertical-align: top;\n",
       "    }\n",
       "\n",
       "    .dataframe thead th {\n",
       "        text-align: right;\n",
       "    }\n",
       "</style>\n",
       "<table border=\"1\" class=\"dataframe\">\n",
       "  <thead>\n",
       "    <tr style=\"text-align: right;\">\n",
       "      <th></th>\n",
       "      <th>id</th>\n",
       "      <th>item_id</th>\n",
       "      <th>dept_id</th>\n",
       "      <th>store_id</th>\n",
       "      <th>cat_id</th>\n",
       "      <th>state_id</th>\n",
       "      <th>d</th>\n",
       "      <th>sales</th>\n",
       "      <th>date</th>\n",
       "      <th>wm_yr_wk</th>\n",
       "      <th>weekday</th>\n",
       "      <th>wday</th>\n",
       "      <th>month</th>\n",
       "      <th>year</th>\n",
       "      <th>event_name_1</th>\n",
       "      <th>event_type_1</th>\n",
       "      <th>event_name_2</th>\n",
       "      <th>event_type_2</th>\n",
       "      <th>snap_CA</th>\n",
       "      <th>snap_TX</th>\n",
       "      <th>snap_WI</th>\n",
       "      <th>sell_price</th>\n",
       "      <th>lag_7</th>\n",
       "      <th>lag_28</th>\n",
       "      <th>lag_7_id_rmean_7</th>\n",
       "      <th>lag_28_id_rmean_7</th>\n",
       "      <th>lag_7_id_rmean_28</th>\n",
       "      <th>lag_28_id_rmean_28</th>\n",
       "      <th>lag_7_item_id_rmean_7</th>\n",
       "      <th>lag_28_item_id_rmean_7</th>\n",
       "      <th>lag_7_item_id_rmean_28</th>\n",
       "      <th>lag_28_item_id_rmean_28</th>\n",
       "      <th>week_num</th>\n",
       "      <th>quarter</th>\n",
       "      <th>mday</th>\n",
       "    </tr>\n",
       "  </thead>\n",
       "  <tbody>\n",
       "    <tr>\n",
       "      <th>0</th>\n",
       "      <td>HOBBIES_1_001_CA_1_validation</td>\n",
       "      <td>HOBBIES_1_001</td>\n",
       "      <td>HOBBIES_1</td>\n",
       "      <td>CA_1</td>\n",
       "      <td>HOBBIES</td>\n",
       "      <td>CA</td>\n",
       "      <td>1475</td>\n",
       "      <td>0</td>\n",
       "      <td>2015-02-11</td>\n",
       "      <td>11502</td>\n",
       "      <td>Wednesday</td>\n",
       "      <td>5</td>\n",
       "      <td>2</td>\n",
       "      <td>2015</td>\n",
       "      <td>NaN</td>\n",
       "      <td>NaN</td>\n",
       "      <td>NaN</td>\n",
       "      <td>NaN</td>\n",
       "      <td>0</td>\n",
       "      <td>1</td>\n",
       "      <td>1</td>\n",
       "      <td>8.26</td>\n",
       "      <td>NaN</td>\n",
       "      <td>NaN</td>\n",
       "      <td>NaN</td>\n",
       "      <td>NaN</td>\n",
       "      <td>NaN</td>\n",
       "      <td>NaN</td>\n",
       "      <td>NaN</td>\n",
       "      <td>NaN</td>\n",
       "      <td>NaN</td>\n",
       "      <td>NaN</td>\n",
       "      <td>7</td>\n",
       "      <td>1</td>\n",
       "      <td>11</td>\n",
       "    </tr>\n",
       "    <tr>\n",
       "      <th>1</th>\n",
       "      <td>HOBBIES_1_001_CA_1_validation</td>\n",
       "      <td>HOBBIES_1_001</td>\n",
       "      <td>HOBBIES_1</td>\n",
       "      <td>CA_1</td>\n",
       "      <td>HOBBIES</td>\n",
       "      <td>CA</td>\n",
       "      <td>1476</td>\n",
       "      <td>0</td>\n",
       "      <td>2015-02-12</td>\n",
       "      <td>11502</td>\n",
       "      <td>Thursday</td>\n",
       "      <td>6</td>\n",
       "      <td>2</td>\n",
       "      <td>2015</td>\n",
       "      <td>NaN</td>\n",
       "      <td>NaN</td>\n",
       "      <td>NaN</td>\n",
       "      <td>NaN</td>\n",
       "      <td>0</td>\n",
       "      <td>1</td>\n",
       "      <td>1</td>\n",
       "      <td>8.26</td>\n",
       "      <td>NaN</td>\n",
       "      <td>NaN</td>\n",
       "      <td>NaN</td>\n",
       "      <td>NaN</td>\n",
       "      <td>NaN</td>\n",
       "      <td>NaN</td>\n",
       "      <td>NaN</td>\n",
       "      <td>NaN</td>\n",
       "      <td>NaN</td>\n",
       "      <td>NaN</td>\n",
       "      <td>7</td>\n",
       "      <td>1</td>\n",
       "      <td>12</td>\n",
       "    </tr>\n",
       "    <tr>\n",
       "      <th>2</th>\n",
       "      <td>HOBBIES_1_001_CA_1_validation</td>\n",
       "      <td>HOBBIES_1_001</td>\n",
       "      <td>HOBBIES_1</td>\n",
       "      <td>CA_1</td>\n",
       "      <td>HOBBIES</td>\n",
       "      <td>CA</td>\n",
       "      <td>1477</td>\n",
       "      <td>3</td>\n",
       "      <td>2015-02-13</td>\n",
       "      <td>11502</td>\n",
       "      <td>Friday</td>\n",
       "      <td>7</td>\n",
       "      <td>2</td>\n",
       "      <td>2015</td>\n",
       "      <td>NaN</td>\n",
       "      <td>NaN</td>\n",
       "      <td>NaN</td>\n",
       "      <td>NaN</td>\n",
       "      <td>0</td>\n",
       "      <td>1</td>\n",
       "      <td>0</td>\n",
       "      <td>8.26</td>\n",
       "      <td>NaN</td>\n",
       "      <td>NaN</td>\n",
       "      <td>NaN</td>\n",
       "      <td>NaN</td>\n",
       "      <td>NaN</td>\n",
       "      <td>NaN</td>\n",
       "      <td>NaN</td>\n",
       "      <td>NaN</td>\n",
       "      <td>NaN</td>\n",
       "      <td>NaN</td>\n",
       "      <td>7</td>\n",
       "      <td>1</td>\n",
       "      <td>13</td>\n",
       "    </tr>\n",
       "  </tbody>\n",
       "</table>\n",
       "</div>"
      ],
      "text/plain": [
       "                              id        item_id    dept_id store_id   cat_id  \\\n",
       "0  HOBBIES_1_001_CA_1_validation  HOBBIES_1_001  HOBBIES_1     CA_1  HOBBIES   \n",
       "1  HOBBIES_1_001_CA_1_validation  HOBBIES_1_001  HOBBIES_1     CA_1  HOBBIES   \n",
       "2  HOBBIES_1_001_CA_1_validation  HOBBIES_1_001  HOBBIES_1     CA_1  HOBBIES   \n",
       "\n",
       "  state_id     d  sales       date  wm_yr_wk    weekday  wday  month  year  \\\n",
       "0       CA  1475      0 2015-02-11     11502  Wednesday     5      2  2015   \n",
       "1       CA  1476      0 2015-02-12     11502   Thursday     6      2  2015   \n",
       "2       CA  1477      3 2015-02-13     11502     Friday     7      2  2015   \n",
       "\n",
       "  event_name_1 event_type_1 event_name_2 event_type_2  snap_CA  snap_TX  \\\n",
       "0          NaN          NaN          NaN          NaN        0        1   \n",
       "1          NaN          NaN          NaN          NaN        0        1   \n",
       "2          NaN          NaN          NaN          NaN        0        1   \n",
       "\n",
       "   snap_WI  sell_price  lag_7  lag_28  lag_7_id_rmean_7  lag_28_id_rmean_7  \\\n",
       "0        1        8.26    NaN     NaN               NaN                NaN   \n",
       "1        1        8.26    NaN     NaN               NaN                NaN   \n",
       "2        0        8.26    NaN     NaN               NaN                NaN   \n",
       "\n",
       "   lag_7_id_rmean_28  lag_28_id_rmean_28  lag_7_item_id_rmean_7  \\\n",
       "0                NaN                 NaN                    NaN   \n",
       "1                NaN                 NaN                    NaN   \n",
       "2                NaN                 NaN                    NaN   \n",
       "\n",
       "   lag_28_item_id_rmean_7  lag_7_item_id_rmean_28  lag_28_item_id_rmean_28  \\\n",
       "0                     NaN                     NaN                      NaN   \n",
       "1                     NaN                     NaN                      NaN   \n",
       "2                     NaN                     NaN                      NaN   \n",
       "\n",
       "   week_num  quarter  mday  \n",
       "0         7        1    11  \n",
       "1         7        1    12  \n",
       "2         7        1    13  "
      ]
     },
     "execution_count": 25,
     "metadata": {
      "tags": []
     },
     "output_type": "execute_result"
    }
   ],
   "source": [
    "strain.head(3)"
   ]
  },
  {
   "cell_type": "code",
   "execution_count": 0,
   "metadata": {
    "colab": {},
    "colab_type": "code",
    "id": "pYIJUeAdLJTt"
   },
   "outputs": [],
   "source": [
    "drop_cols = ['id', 'sales', 'date', 'wm_yr_wk', 'weekday']\n",
    "train_cols = strain.columns[~strain.columns.isin(drop_cols)]\n",
    "cat_cols = [\n",
    "    'item_id', 'dept_id', 'store_id', 'cat_id', 'state_id', \n",
    "    'event_name_1', 'event_type_1', 'event_name_2', 'event_type_2'\n",
    "]\n",
    "strain[cat_cols] = strain[cat_cols].fillna(0)"
   ]
  },
  {
   "cell_type": "markdown",
   "metadata": {
    "colab_type": "text",
    "id": "pzSOCQI2LJTy"
   },
   "source": [
    "## CatBoost"
   ]
  },
  {
   "cell_type": "code",
   "execution_count": 10,
   "metadata": {
    "colab": {
     "base_uri": "https://localhost:8080/",
     "height": 51
    },
    "colab_type": "code",
    "id": "2Jb0wtCqLJTz",
    "outputId": "cc609c6a-4d63-4a46-a286-6d408016ca3d"
   },
   "outputs": [
    {
     "name": "stdout",
     "output_type": "stream",
     "text": [
      "CPU times: user 42.1 s, sys: 1.85 s, total: 44 s\n",
      "Wall time: 41.1 s\n"
     ]
    }
   ],
   "source": [
    "%%time\n",
    "val_size = int(strain.shape[0] * .15)\n",
    "val_idxs = np.random.choice(strain.index.values, val_size, replace=False)\n",
    "train_idxs = np.setdiff1d(strain.index.values, val_idxs)\n",
    "train_pool = Pool(\n",
    "    strain.loc[train_idxs][train_cols], \n",
    "    strain.loc[train_idxs]['sales'],\n",
    "    cat_features=cat_cols\n",
    ")\n",
    "val_pool = Pool(\n",
    "    strain.loc[val_idxs][train_cols], \n",
    "    strain.loc[val_idxs]['sales'],\n",
    "    cat_features=cat_cols\n",
    ")\n",
    "del strain\n",
    "gc.collect()"
   ]
  },
  {
   "cell_type": "code",
   "execution_count": 11,
   "metadata": {
    "colab": {
     "base_uri": "https://localhost:8080/",
     "height": 204
    },
    "colab_type": "code",
    "id": "i3T-jz0BLJT7",
    "outputId": "d15b1ac1-451e-4999-d9ee-eb5f673e9d67"
   },
   "outputs": [
    {
     "name": "stdout",
     "output_type": "stream",
     "text": [
      "Learning rate set to 0.35204\n",
      "0:\tlearn: 2.9428610\ttest: 2.9549983\tbest: 2.9549983 (0)\ttotal: 1.32s\tremaining: 21m 59s\n",
      "200:\tlearn: 1.9990122\ttest: 2.0761268\tbest: 2.0761084 (199)\ttotal: 3m 36s\tremaining: 14m 22s\n",
      "400:\tlearn: 1.9394297\ttest: 2.0586270\tbest: 2.0586270 (400)\ttotal: 7m 10s\tremaining: 10m 42s\n",
      "600:\tlearn: 1.9001072\ttest: 2.0478947\tbest: 2.0478416 (598)\ttotal: 10m 50s\tremaining: 7m 11s\n",
      "800:\tlearn: 1.8674147\ttest: 2.0435845\tbest: 2.0432455 (789)\ttotal: 14m 27s\tremaining: 3m 35s\n",
      "999:\tlearn: 1.8398260\ttest: 2.0388751\tbest: 2.0387949 (998)\ttotal: 18m 2s\tremaining: 0us\n",
      "bestTest = 2.038794938\n",
      "bestIteration = 998\n",
      "Shrink model to first 999 iterations.\n"
     ]
    },
    {
     "data": {
      "text/plain": [
       "0"
      ]
     },
     "execution_count": 11,
     "metadata": {
      "tags": []
     },
     "output_type": "execute_result"
    }
   ],
   "source": [
    "model = CatBoostRegressor(\n",
    "    iterations=1000,\n",
    "    task_type='GPU',\n",
    "    verbose=200,\n",
    "    loss_function='RMSE',\n",
    "    boosting_type='Plain',\n",
    "    depth=8,\n",
    "    gpu_cat_features_storage='CpuPinnedMemory',\n",
    "    #max_ctr_complexity=2\n",
    "model.fit(\n",
    "    train_pool,\n",
    "    eval_set = val_pool\n",
    "    #plot=True   \n",
    ")\n",
    "del train_pool, val_pool\n",
    "gc.collect()"
   ]
  },
  {
   "cell_type": "code",
   "execution_count": 0,
   "metadata": {
    "colab": {},
    "colab_type": "code",
    "id": "TnGg7QClLJUC"
   },
   "outputs": [],
   "source": [
    "model.save_model('model_{}.cbm'.format(MODEL_VER))"
   ]
  },
  {
   "cell_type": "markdown",
   "metadata": {
    "colab_type": "text",
    "id": "jp_3MPXiLJUR"
   },
   "source": [
    "## Prediction Loop"
   ]
  },
  {
   "cell_type": "code",
   "execution_count": null,
   "metadata": {
    "colab": {
     "base_uri": "https://localhost:8080/",
     "height": 1000,
     "referenced_widgets": [
      "f47ea177e5e34fd6baed0faf5a5e2313",
      "3e4b6dd4affe4ce0ae9b89389ac82d49",
      "44e3b17810f34a2883394f7c60381fd8",
      "7d9cc372513c49ac8324e1f5d3b20a06",
      "8377ecd31e2d4609b0431301b1ce7196",
      "42868ace52ca4984b6d3d6e11b014590",
      "3f78e3ce63af4b24b5e064da5285024b",
      "05328ccc653547538d5e8f258a4058c6"
     ]
    },
    "colab_type": "code",
    "id": "K8v_jM1ALJUS",
    "outputId": "78f3da9b-8f81-46ae-d749-d5c0bb5c9e4d"
   },
   "outputs": [],
   "source": [
    "%%time\n",
    "spred = get_df(is_train=False, backward_lags=BACKWARD_LAGS)\n",
    "for pred_day in tqdm(range(1, 28 + 28 + 1)):\n",
    "    pred_date = datetime.strptime(END_DATE, '%Y-%m-%d') + timedelta(days=pred_day)\n",
    "    pred_date_back = pred_date - timedelta(days=BACKWARD_LAGS + 1)\n",
    "    print('-' * 70)\n",
    "    print('forecast day forward:', pred_day, '| forecast date:', pred_date) \n",
    "    spred_data = spred[(spred['date'] >= pred_date_back) & (spred['date'] <= pred_date)].copy()\n",
    "    spred_data = make_features(spred_data)\n",
    "    spred_data = spred_data.loc[spred['date'] == pred_date, train_cols]\n",
    "    spred_data[cat_cols] = spred_data[cat_cols].fillna(0)\n",
    "    spred.loc[spred['date'] == pred_date, 'sales'] = model.predict(spred_data)\n",
    "del spred_data\n",
    "gc.collect()"
   ]
  },
  {
   "cell_type": "markdown",
   "metadata": {
    "colab_type": "text",
    "id": "w1vuc5KALJUX"
   },
   "source": [
    "## Submission"
   ]
  },
  {
   "cell_type": "code",
   "execution_count": 14,
   "metadata": {
    "colab": {
     "base_uri": "https://localhost:8080/",
     "height": 34
    },
    "colab_type": "code",
    "id": "UzpwfpwDLJUY",
    "outputId": "283149c3-0d92-4218-e8cb-3d52823c4647"
   },
   "outputs": [
    {
     "name": "stdout",
     "output_type": "stream",
     "text": [
      "last d num: 1913\n"
     ]
    }
   ],
   "source": [
    "spred_subm = spred.loc[spred['date'] > END_DATE, ['id', 'd', 'sales']].copy()\n",
    "last_d = int(spred.loc[spred['date'] == END_DATE, 'd'].unique()[0].replace('d_', ''))\n",
    "print('last d num:', last_d)\n",
    "spred_subm['d'] = spred_subm['d'].apply(lambda x: 'F{}'.format(int(x.replace('d_', '')) - last_d))\n",
    "spred_subm.loc[spred_subm['sales'] < 0, 'sales'] = 0"
   ]
  },
  {
   "cell_type": "code",
   "execution_count": 0,
   "metadata": {
    "colab": {},
    "colab_type": "code",
    "id": "eH0vPUIrLJUc"
   },
   "outputs": [],
   "source": [
    "f_cols = ['F{}'.format(x) for x in range(1, 28 + 28 + 1)]\n",
    "spred_subm = spred_subm.set_index(['id', 'd']).unstack()['sales'][f_cols].reset_index()\n",
    "spred_subm.fillna(0, inplace=True)\n",
    "spred_subm.sort_values('id', inplace=True)\n",
    "spred_subm.reset_index(drop=True, inplace=True)"
   ]
  },
  {
   "cell_type": "code",
   "execution_count": 16,
   "metadata": {
    "colab": {
     "base_uri": "https://localhost:8080/",
     "height": 34
    },
    "colab_type": "code",
    "id": "CMuXHbjJLJUj",
    "outputId": "6a750c27-49b9-43bc-fb01-80e63372bd56"
   },
   "outputs": [
    {
     "name": "stdout",
     "output_type": "stream",
     "text": [
      "submission saved: (60980, 29)\n"
     ]
    }
   ],
   "source": [
    "f_cols_val = ['F{}'.format(x) for x in range(1, 28 + 1)]\n",
    "f_cols_eval = ['F{}'.format(x) for x in range(28 + 1, 28 + 28 + 1)]\n",
    "spred_subm_eval = spred_subm.copy()\n",
    "spred_subm.drop(columns=f_cols_eval, inplace=True)\n",
    "spred_subm_eval.drop(columns=f_cols_val, inplace=True)\n",
    "spred_subm_eval.columns = spred_subm.columns\n",
    "spred_subm_eval['id'] = spred_subm_eval['id'].str.replace('validation', 'evaluation')\n",
    "spred_subm = pd.concat([spred_subm, spred_subm_eval], axis=0, sort=False)\n",
    "spred_subm.reset_index(drop=True, inplace=True)\n",
    "spred_subm.to_csv('submission.csv', index=False)\n",
    "print('submission saved:', spred_subm.shape)"
   ]
  }
 ],
 "metadata": {
  "accelerator": "GPU",
  "colab": {
   "name": "m5-catboost (1).ipynb",
   "provenance": [],
   "toc_visible": true
  },
  "kernelspec": {
   "display_name": "Python 3",
   "language": "python",
   "name": "python3"
  },
  "language_info": {
   "codemirror_mode": {
    "name": "ipython",
    "version": 3
   },
   "file_extension": ".py",
   "mimetype": "text/x-python",
   "name": "python",
   "nbconvert_exporter": "python",
   "pygments_lexer": "ipython3",
   "version": "3.7.6"
  },
  "varInspector": {
   "cols": {
    "lenName": 16,
    "lenType": 16,
    "lenVar": 40
   },
   "kernels_config": {
    "python": {
     "delete_cmd_postfix": "",
     "delete_cmd_prefix": "del ",
     "library": "var_list.py",
     "varRefreshCmd": "print(var_dic_list())"
    },
    "r": {
     "delete_cmd_postfix": ") ",
     "delete_cmd_prefix": "rm(",
     "library": "var_list.r",
     "varRefreshCmd": "cat(var_dic_list()) "
    }
   },
   "types_to_exclude": [
    "module",
    "function",
    "builtin_function_or_method",
    "instance",
    "_Feature"
   ],
   "window_display": false
  },
  "widgets": {
   "application/vnd.jupyter.widget-state+json": {
    "05328ccc653547538d5e8f258a4058c6": {
     "model_module": "@jupyter-widgets/base",
     "model_name": "LayoutModel",
     "state": {
      "_model_module": "@jupyter-widgets/base",
      "_model_module_version": "1.2.0",
      "_model_name": "LayoutModel",
      "_view_count": null,
      "_view_module": "@jupyter-widgets/base",
      "_view_module_version": "1.2.0",
      "_view_name": "LayoutView",
      "align_content": null,
      "align_items": null,
      "align_self": null,
      "border": null,
      "bottom": null,
      "display": null,
      "flex": null,
      "flex_flow": null,
      "grid_area": null,
      "grid_auto_columns": null,
      "grid_auto_flow": null,
      "grid_auto_rows": null,
      "grid_column": null,
      "grid_gap": null,
      "grid_row": null,
      "grid_template_areas": null,
      "grid_template_columns": null,
      "grid_template_rows": null,
      "height": null,
      "justify_content": null,
      "justify_items": null,
      "left": null,
      "margin": null,
      "max_height": null,
      "max_width": null,
      "min_height": null,
      "min_width": null,
      "object_fit": null,
      "object_position": null,
      "order": null,
      "overflow": null,
      "overflow_x": null,
      "overflow_y": null,
      "padding": null,
      "right": null,
      "top": null,
      "visibility": null,
      "width": null
     }
    },
    "3e4b6dd4affe4ce0ae9b89389ac82d49": {
     "model_module": "@jupyter-widgets/base",
     "model_name": "LayoutModel",
     "state": {
      "_model_module": "@jupyter-widgets/base",
      "_model_module_version": "1.2.0",
      "_model_name": "LayoutModel",
      "_view_count": null,
      "_view_module": "@jupyter-widgets/base",
      "_view_module_version": "1.2.0",
      "_view_name": "LayoutView",
      "align_content": null,
      "align_items": null,
      "align_self": null,
      "border": null,
      "bottom": null,
      "display": null,
      "flex": null,
      "flex_flow": null,
      "grid_area": null,
      "grid_auto_columns": null,
      "grid_auto_flow": null,
      "grid_auto_rows": null,
      "grid_column": null,
      "grid_gap": null,
      "grid_row": null,
      "grid_template_areas": null,
      "grid_template_columns": null,
      "grid_template_rows": null,
      "height": null,
      "justify_content": null,
      "justify_items": null,
      "left": null,
      "margin": null,
      "max_height": null,
      "max_width": null,
      "min_height": null,
      "min_width": null,
      "object_fit": null,
      "object_position": null,
      "order": null,
      "overflow": null,
      "overflow_x": null,
      "overflow_y": null,
      "padding": null,
      "right": null,
      "top": null,
      "visibility": null,
      "width": null
     }
    },
    "3f78e3ce63af4b24b5e064da5285024b": {
     "model_module": "@jupyter-widgets/controls",
     "model_name": "DescriptionStyleModel",
     "state": {
      "_model_module": "@jupyter-widgets/controls",
      "_model_module_version": "1.5.0",
      "_model_name": "DescriptionStyleModel",
      "_view_count": null,
      "_view_module": "@jupyter-widgets/base",
      "_view_module_version": "1.2.0",
      "_view_name": "StyleView",
      "description_width": ""
     }
    },
    "42868ace52ca4984b6d3d6e11b014590": {
     "model_module": "@jupyter-widgets/base",
     "model_name": "LayoutModel",
     "state": {
      "_model_module": "@jupyter-widgets/base",
      "_model_module_version": "1.2.0",
      "_model_name": "LayoutModel",
      "_view_count": null,
      "_view_module": "@jupyter-widgets/base",
      "_view_module_version": "1.2.0",
      "_view_name": "LayoutView",
      "align_content": null,
      "align_items": null,
      "align_self": null,
      "border": null,
      "bottom": null,
      "display": null,
      "flex": null,
      "flex_flow": null,
      "grid_area": null,
      "grid_auto_columns": null,
      "grid_auto_flow": null,
      "grid_auto_rows": null,
      "grid_column": null,
      "grid_gap": null,
      "grid_row": null,
      "grid_template_areas": null,
      "grid_template_columns": null,
      "grid_template_rows": null,
      "height": null,
      "justify_content": null,
      "justify_items": null,
      "left": null,
      "margin": null,
      "max_height": null,
      "max_width": null,
      "min_height": null,
      "min_width": null,
      "object_fit": null,
      "object_position": null,
      "order": null,
      "overflow": null,
      "overflow_x": null,
      "overflow_y": null,
      "padding": null,
      "right": null,
      "top": null,
      "visibility": null,
      "width": null
     }
    },
    "44e3b17810f34a2883394f7c60381fd8": {
     "model_module": "@jupyter-widgets/controls",
     "model_name": "IntProgressModel",
     "state": {
      "_dom_classes": [],
      "_model_module": "@jupyter-widgets/controls",
      "_model_module_version": "1.5.0",
      "_model_name": "IntProgressModel",
      "_view_count": null,
      "_view_module": "@jupyter-widgets/controls",
      "_view_module_version": "1.5.0",
      "_view_name": "ProgressView",
      "bar_style": "success",
      "description": "100%",
      "description_tooltip": null,
      "layout": "IPY_MODEL_42868ace52ca4984b6d3d6e11b014590",
      "max": 56,
      "min": 0,
      "orientation": "horizontal",
      "style": "IPY_MODEL_8377ecd31e2d4609b0431301b1ce7196",
      "value": 56
     }
    },
    "7d9cc372513c49ac8324e1f5d3b20a06": {
     "model_module": "@jupyter-widgets/controls",
     "model_name": "HTMLModel",
     "state": {
      "_dom_classes": [],
      "_model_module": "@jupyter-widgets/controls",
      "_model_module_version": "1.5.0",
      "_model_name": "HTMLModel",
      "_view_count": null,
      "_view_module": "@jupyter-widgets/controls",
      "_view_module_version": "1.5.0",
      "_view_name": "HTMLView",
      "description": "",
      "description_tooltip": null,
      "layout": "IPY_MODEL_05328ccc653547538d5e8f258a4058c6",
      "placeholder": "​",
      "style": "IPY_MODEL_3f78e3ce63af4b24b5e064da5285024b",
      "value": " 56/56 [1:17:22&lt;00:00, 82.90s/it]"
     }
    },
    "8377ecd31e2d4609b0431301b1ce7196": {
     "model_module": "@jupyter-widgets/controls",
     "model_name": "ProgressStyleModel",
     "state": {
      "_model_module": "@jupyter-widgets/controls",
      "_model_module_version": "1.5.0",
      "_model_name": "ProgressStyleModel",
      "_view_count": null,
      "_view_module": "@jupyter-widgets/base",
      "_view_module_version": "1.2.0",
      "_view_name": "StyleView",
      "bar_color": null,
      "description_width": "initial"
     }
    },
    "f47ea177e5e34fd6baed0faf5a5e2313": {
     "model_module": "@jupyter-widgets/controls",
     "model_name": "HBoxModel",
     "state": {
      "_dom_classes": [],
      "_model_module": "@jupyter-widgets/controls",
      "_model_module_version": "1.5.0",
      "_model_name": "HBoxModel",
      "_view_count": null,
      "_view_module": "@jupyter-widgets/controls",
      "_view_module_version": "1.5.0",
      "_view_name": "HBoxView",
      "box_style": "",
      "children": [
       "IPY_MODEL_44e3b17810f34a2883394f7c60381fd8",
       "IPY_MODEL_7d9cc372513c49ac8324e1f5d3b20a06"
      ],
      "layout": "IPY_MODEL_3e4b6dd4affe4ce0ae9b89389ac82d49"
     }
    }
   }
  }
 },
 "nbformat": 4,
 "nbformat_minor": 1
}
